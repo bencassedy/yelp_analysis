{
 "metadata": {
  "name": ""
 },
 "nbformat": 3,
 "nbformat_minor": 0,
 "worksheets": [
  {
   "cells": [
    {
     "cell_type": "code",
     "collapsed": false,
     "input": [
      "BIZPATH='/Users/bencassedy/projects/yelp/yelp_phoenix_academic_dataset/yelp_academic_dataset_business.json'\n",
      "USERPATH='/Users/bencassedy/projects/yelp/yelp_phoenix_academic_dataset/yelp_academic_dataset_user.json'\n",
      "REVPATH='/Users/bencassedy/projects/yelp/yelp_phoenix_academic_dataset/yelp_academic_dataset_review.json'\n",
      "CHECKINPATH='/Users/bencassedy/projects/yelp/yelp_phoenix_academic_dataset/yelp_academic_dataset_checkin.json'\n"
     ],
     "language": "python",
     "metadata": {},
     "outputs": [],
     "prompt_number": 2
    },
    {
     "cell_type": "code",
     "collapsed": false,
     "input": [
      "import json"
     ],
     "language": "python",
     "metadata": {},
     "outputs": [],
     "prompt_number": 3
    },
    {
     "cell_type": "code",
     "collapsed": false,
     "input": [
      "bizrecords = [json.loads(line) for line in open(BIZPATH)]\n",
      "userrecords = [json.loads(line) for line in open(USERPATH)]\n",
      "revrecords = [json.loads(line) for line in open(REVPATH)]\n",
      "checkinrecords = [json.loads(line) for line in open(CHECKINPATH)]"
     ],
     "language": "python",
     "metadata": {},
     "outputs": [],
     "prompt_number": 4
    },
    {
     "cell_type": "code",
     "collapsed": false,
     "input": [
      "bizrecords[0]"
     ],
     "language": "python",
     "metadata": {},
     "outputs": [
      {
       "metadata": {},
       "output_type": "pyout",
       "prompt_number": 5,
       "text": [
        "{u'business_id': u'rncjoVoEFUJGCUoC1JgnUA',\n",
        " u'categories': [u'Accountants',\n",
        "  u'Professional Services',\n",
        "  u'Tax Services',\n",
        "  u'Financial Services'],\n",
        " u'city': u'Peoria',\n",
        " u'full_address': u'8466 W Peoria Ave\\nSte 6\\nPeoria, AZ 85345',\n",
        " u'latitude': 33.581867,\n",
        " u'longitude': -112.241596,\n",
        " u'name': u'Peoria Income Tax Service',\n",
        " u'neighborhoods': [],\n",
        " u'open': True,\n",
        " u'review_count': 3,\n",
        " u'stars': 5.0,\n",
        " u'state': u'AZ',\n",
        " u'type': u'business'}"
       ]
      }
     ],
     "prompt_number": 5
    },
    {
     "cell_type": "code",
     "collapsed": false,
     "input": [
      "userrecords[0]"
     ],
     "language": "python",
     "metadata": {},
     "outputs": [
      {
       "metadata": {},
       "output_type": "pyout",
       "prompt_number": 6,
       "text": [
        "{u'average_stars': 5.0,\n",
        " u'name': u'Jim',\n",
        " u'review_count': 6,\n",
        " u'type': u'user',\n",
        " u'user_id': u'CR2y7yEm4X035ZMzrTtN9Q',\n",
        " u'votes': {u'cool': 0, u'funny': 0, u'useful': 7}}"
       ]
      }
     ],
     "prompt_number": 6
    },
    {
     "cell_type": "code",
     "collapsed": false,
     "input": [
      "revrecords[0]"
     ],
     "language": "python",
     "metadata": {},
     "outputs": [
      {
       "metadata": {},
       "output_type": "pyout",
       "prompt_number": 7,
       "text": [
        "{u'business_id': u'9yKzy9PApeiPPOUJEtnvkg',\n",
        " u'date': u'2011-01-26',\n",
        " u'review_id': u'fWKvX83p0-ka4JS3dc6E5A',\n",
        " u'stars': 5,\n",
        " u'text': u'My wife took me here on my birthday for breakfast and it was excellent.  The weather was perfect which made sitting outside overlooking their grounds an absolute pleasure.  Our waitress was excellent and our food arrived quickly on the semi-busy Saturday morning.  It looked like the place fills up pretty quickly so the earlier you get here the better.\\n\\nDo yourself a favor and get their Bloody Mary.  It was phenomenal and simply the best I\\'ve ever had.  I\\'m pretty sure they only use ingredients from their garden and blend them fresh when you order it.  It was amazing.\\n\\nWhile EVERYTHING on the menu looks excellent, I had the white truffle scrambled eggs vegetable skillet and it was tasty and delicious.  It came with 2 pieces of their griddled bread with was amazing and it absolutely made the meal complete.  It was the best \"toast\" I\\'ve ever had.\\n\\nAnyway, I can\\'t wait to go back!',\n",
        " u'type': u'review',\n",
        " u'user_id': u'rLtl8ZkDX5vH5nAx9C3q5Q',\n",
        " u'votes': {u'cool': 2, u'funny': 0, u'useful': 5}}"
       ]
      }
     ],
     "prompt_number": 7
    },
    {
     "cell_type": "code",
     "collapsed": false,
     "input": [
      "checkinrecords[0]"
     ],
     "language": "python",
     "metadata": {},
     "outputs": [
      {
       "metadata": {},
       "output_type": "pyout",
       "prompt_number": 8,
       "text": [
        "{u'business_id': u'KO9CpaSPOoqm0iCWm5scmg',\n",
        " u'checkin_info': {u'0-5': 1,\n",
        "  u'1-6': 1,\n",
        "  u'10-0': 3,\n",
        "  u'10-1': 4,\n",
        "  u'10-2': 4,\n",
        "  u'10-3': 4,\n",
        "  u'10-4': 1,\n",
        "  u'10-5': 2,\n",
        "  u'10-6': 2,\n",
        "  u'11-0': 3,\n",
        "  u'11-1': 18,\n",
        "  u'11-2': 9,\n",
        "  u'11-3': 17,\n",
        "  u'11-4': 11,\n",
        "  u'11-5': 3,\n",
        "  u'11-6': 6,\n",
        "  u'12-0': 20,\n",
        "  u'12-1': 14,\n",
        "  u'12-2': 12,\n",
        "  u'12-3': 19,\n",
        "  u'12-4': 8,\n",
        "  u'12-5': 5,\n",
        "  u'12-6': 5,\n",
        "  u'13-1': 1,\n",
        "  u'13-2': 6,\n",
        "  u'13-3': 1,\n",
        "  u'13-5': 4,\n",
        "  u'13-6': 5,\n",
        "  u'14-0': 2,\n",
        "  u'14-1': 2,\n",
        "  u'14-3': 2,\n",
        "  u'14-4': 1,\n",
        "  u'14-5': 3,\n",
        "  u'14-6': 6,\n",
        "  u'15-0': 2,\n",
        "  u'15-3': 2,\n",
        "  u'15-5': 2,\n",
        "  u'16-1': 1,\n",
        "  u'16-3': 1,\n",
        "  u'16-5': 1,\n",
        "  u'20-1': 1,\n",
        "  u'8-5': 1,\n",
        "  u'9-4': 1,\n",
        "  u'9-5': 2,\n",
        "  u'9-6': 4},\n",
        " u'type': u'checkin'}"
       ]
      }
     ],
     "prompt_number": 8
    },
    {
     "cell_type": "code",
     "collapsed": false,
     "input": [
      "from pandas import DataFrame, Series"
     ],
     "language": "python",
     "metadata": {},
     "outputs": [],
     "prompt_number": 9
    },
    {
     "cell_type": "code",
     "collapsed": false,
     "input": [
      "import pandas as pd; import numpy as np"
     ],
     "language": "python",
     "metadata": {},
     "outputs": [],
     "prompt_number": 10
    },
    {
     "cell_type": "code",
     "collapsed": false,
     "input": [
      "bizframe = DataFrame(bizrecords)\n",
      "userframe = DataFrame(userrecords)\n",
      "revframe = DataFrame(revrecords)\n",
      "checkinframe = DataFrame(checkinrecords)"
     ],
     "language": "python",
     "metadata": {},
     "outputs": [],
     "prompt_number": 11
    },
    {
     "cell_type": "code",
     "collapsed": false,
     "input": [
      "bizframe_sub = DataFrame(bizrecords, columns=['business_id', 'name', 'categories', 'review_count', 'stars'])"
     ],
     "language": "python",
     "metadata": {},
     "outputs": [],
     "prompt_number": 57
    },
    {
     "cell_type": "code",
     "collapsed": false,
     "input": [
      "bizframe_sub.head(n=10)"
     ],
     "language": "python",
     "metadata": {},
     "outputs": [
      {
       "html": [
        "<div style=\"max-height:1000px;max-width:1500px;overflow:auto;\">\n",
        "<table border=\"1\" class=\"dataframe\">\n",
        "  <thead>\n",
        "    <tr style=\"text-align: right;\">\n",
        "      <th></th>\n",
        "      <th>business_id</th>\n",
        "      <th>name</th>\n",
        "      <th>categories</th>\n",
        "      <th>review_count</th>\n",
        "      <th>stars</th>\n",
        "    </tr>\n",
        "  </thead>\n",
        "  <tbody>\n",
        "    <tr>\n",
        "      <th>0</th>\n",
        "      <td> rncjoVoEFUJGCUoC1JgnUA</td>\n",
        "      <td>    Peoria Income Tax Service</td>\n",
        "      <td> [Accountants, Professional Services, Tax Servi...</td>\n",
        "      <td>  3</td>\n",
        "      <td> 5.0</td>\n",
        "    </tr>\n",
        "    <tr>\n",
        "      <th>1</th>\n",
        "      <td> 0FNFSzCFP_rGUoJx8W7tJg</td>\n",
        "      <td>                  Bike Doctor</td>\n",
        "      <td>                 [Sporting Goods, Bikes, Shopping]</td>\n",
        "      <td>  5</td>\n",
        "      <td> 5.0</td>\n",
        "    </tr>\n",
        "    <tr>\n",
        "      <th>2</th>\n",
        "      <td> 3f_lyB6vFK48ukH6ScvLHg</td>\n",
        "      <td> Valley Permaculture Alliance</td>\n",
        "      <td>                                                []</td>\n",
        "      <td>  4</td>\n",
        "      <td> 5.0</td>\n",
        "    </tr>\n",
        "    <tr>\n",
        "      <th>3</th>\n",
        "      <td> usAsSV36QmUej8--yvN-dg</td>\n",
        "      <td>                    Food City</td>\n",
        "      <td>                                   [Food, Grocery]</td>\n",
        "      <td>  5</td>\n",
        "      <td> 3.5</td>\n",
        "    </tr>\n",
        "    <tr>\n",
        "      <th>4</th>\n",
        "      <td> PzOqRohWw7F7YEPBz6AubA</td>\n",
        "      <td>            Hot Bagels &amp; Deli</td>\n",
        "      <td>                [Food, Bagels, Delis, Restaurants]</td>\n",
        "      <td> 14</td>\n",
        "      <td> 3.5</td>\n",
        "    </tr>\n",
        "    <tr>\n",
        "      <th>5</th>\n",
        "      <td> gtQzAiy7D-dPU8WzT3jX3Q</td>\n",
        "      <td>      Barney's New York Co-op</td>\n",
        "      <td>             [Women's Clothing, Fashion, Shopping]</td>\n",
        "      <td>  6</td>\n",
        "      <td> 4.5</td>\n",
        "    </tr>\n",
        "    <tr>\n",
        "      <th>6</th>\n",
        "      <td> FrBCYtCS_jydDjg1KsIgWQ</td>\n",
        "      <td>          Zia Record Exchange</td>\n",
        "      <td> [Music &amp; DVDs, Books, Mags, Music &amp; Video, Vin...</td>\n",
        "      <td> 21</td>\n",
        "      <td> 3.5</td>\n",
        "    </tr>\n",
        "    <tr>\n",
        "      <th>7</th>\n",
        "      <td> yaXAD-Mv2K2PEZobmqjIYA</td>\n",
        "      <td>            Reflections Bingo</td>\n",
        "      <td> [Event Planning &amp; Services, Venues &amp; Event Spa...</td>\n",
        "      <td>  4</td>\n",
        "      <td> 5.0</td>\n",
        "    </tr>\n",
        "    <tr>\n",
        "      <th>8</th>\n",
        "      <td> o3ehs4ZEdsizbJyB9_j7uQ</td>\n",
        "      <td>                          Jam</td>\n",
        "      <td> [Art Schools, Specialty Schools, Shopping, Jew...</td>\n",
        "      <td> 14</td>\n",
        "      <td> 5.0</td>\n",
        "    </tr>\n",
        "    <tr>\n",
        "      <th>9</th>\n",
        "      <td> qarobAbxGSHI7ygf1f7a_Q</td>\n",
        "      <td>           Jersey Mike's Subs</td>\n",
        "      <td>                         [Sandwiches, Restaurants]</td>\n",
        "      <td> 10</td>\n",
        "      <td> 3.5</td>\n",
        "    </tr>\n",
        "  </tbody>\n",
        "</table>\n",
        "</div>"
       ],
       "metadata": {},
       "output_type": "pyout",
       "prompt_number": 58,
       "text": [
        "              business_id                          name  \\\n",
        "0  rncjoVoEFUJGCUoC1JgnUA     Peoria Income Tax Service   \n",
        "1  0FNFSzCFP_rGUoJx8W7tJg                   Bike Doctor   \n",
        "2  3f_lyB6vFK48ukH6ScvLHg  Valley Permaculture Alliance   \n",
        "3  usAsSV36QmUej8--yvN-dg                     Food City   \n",
        "4  PzOqRohWw7F7YEPBz6AubA             Hot Bagels & Deli   \n",
        "5  gtQzAiy7D-dPU8WzT3jX3Q       Barney's New York Co-op   \n",
        "6  FrBCYtCS_jydDjg1KsIgWQ           Zia Record Exchange   \n",
        "7  yaXAD-Mv2K2PEZobmqjIYA             Reflections Bingo   \n",
        "8  o3ehs4ZEdsizbJyB9_j7uQ                           Jam   \n",
        "9  qarobAbxGSHI7ygf1f7a_Q            Jersey Mike's Subs   \n",
        "\n",
        "                                          categories  review_count  stars  \n",
        "0  [Accountants, Professional Services, Tax Servi...             3    5.0  \n",
        "1                  [Sporting Goods, Bikes, Shopping]             5    5.0  \n",
        "2                                                 []             4    5.0  \n",
        "3                                    [Food, Grocery]             5    3.5  \n",
        "4                 [Food, Bagels, Delis, Restaurants]            14    3.5  \n",
        "5              [Women's Clothing, Fashion, Shopping]             6    4.5  \n",
        "6  [Music & DVDs, Books, Mags, Music & Video, Vin...            21    3.5  \n",
        "7  [Event Planning & Services, Venues & Event Spa...             4    5.0  \n",
        "8  [Art Schools, Specialty Schools, Shopping, Jew...            14    5.0  \n",
        "9                          [Sandwiches, Restaurants]            10    3.5  "
       ]
      }
     ],
     "prompt_number": 58
    },
    {
     "cell_type": "code",
     "collapsed": false,
     "input": [
      "bsort = bizframe_sub.sort_index(by='review_count', ascending=False)"
     ],
     "language": "python",
     "metadata": {},
     "outputs": [],
     "prompt_number": 66
    },
    {
     "cell_type": "code",
     "collapsed": false,
     "input": [
      "bsort[:10]"
     ],
     "language": "python",
     "metadata": {},
     "outputs": [
      {
       "html": [
        "<div style=\"max-height:1000px;max-width:1500px;overflow:auto;\">\n",
        "<table border=\"1\" class=\"dataframe\">\n",
        "  <thead>\n",
        "    <tr style=\"text-align: right;\">\n",
        "      <th></th>\n",
        "      <th>business_id</th>\n",
        "      <th>name</th>\n",
        "      <th>categories</th>\n",
        "      <th>review_count</th>\n",
        "      <th>stars</th>\n",
        "    </tr>\n",
        "  </thead>\n",
        "  <tbody>\n",
        "    <tr>\n",
        "      <th>9533</th>\n",
        "      <td> hW0Ne_HTHEAgGF1rAdmR-g</td>\n",
        "      <td> Phoenix Sky Harbor International Airport</td>\n",
        "      <td>                       [Hotels &amp; Travel, Airports]</td>\n",
        "      <td> 862</td>\n",
        "      <td> 3.0</td>\n",
        "    </tr>\n",
        "    <tr>\n",
        "      <th>5498</th>\n",
        "      <td> VVeogjZya58oiTxK7qUjAQ</td>\n",
        "      <td>                          Pizzeria Bianco</td>\n",
        "      <td>                              [Pizza, Restaurants]</td>\n",
        "      <td> 803</td>\n",
        "      <td> 4.0</td>\n",
        "    </tr>\n",
        "    <tr>\n",
        "      <th>3428</th>\n",
        "      <td> JokKtdXU7zXHcr20Lrk29A</td>\n",
        "      <td>                    Four Peaks Brewing Co</td>\n",
        "      <td> [Bars, Food, Breweries, Pubs, Nightlife, Ameri...</td>\n",
        "      <td> 735</td>\n",
        "      <td> 4.5</td>\n",
        "    </tr>\n",
        "    <tr>\n",
        "      <th>6422</th>\n",
        "      <td> ntN85eu27C04nwyPa8IHtw</td>\n",
        "      <td>                     Matt's Big Breakfast</td>\n",
        "      <td>                 [Breakfast &amp; Brunch, Restaurants]</td>\n",
        "      <td> 689</td>\n",
        "      <td> 4.0</td>\n",
        "    </tr>\n",
        "    <tr>\n",
        "      <th>8283</th>\n",
        "      <td> EWMwV5V9BxNs_U6nNVMeqw</td>\n",
        "      <td>                                      FEZ</td>\n",
        "      <td> [Bars, Mediterranean, Nightlife, Lounges, Amer...</td>\n",
        "      <td> 652</td>\n",
        "      <td> 4.0</td>\n",
        "    </tr>\n",
        "    <tr>\n",
        "      <th>7053</th>\n",
        "      <td> V1nEpIRmEa1768oj_tuxeQ</td>\n",
        "      <td>                                     Cibo</td>\n",
        "      <td>         [Italian, Pizza, Sandwiches, Restaurants]</td>\n",
        "      <td> 594</td>\n",
        "      <td> 4.5</td>\n",
        "    </tr>\n",
        "    <tr>\n",
        "      <th>62  </th>\n",
        "      <td> WNy1uzcmm_UHmTyR--o5IA</td>\n",
        "      <td>                    Cornish Pasty Company</td>\n",
        "      <td>     [Pubs, Bars, Nightlife, British, Restaurants]</td>\n",
        "      <td> 580</td>\n",
        "      <td> 4.5</td>\n",
        "    </tr>\n",
        "    <tr>\n",
        "      <th>3265</th>\n",
        "      <td> SDwYQ6eSu1htn8vHWv128g</td>\n",
        "      <td>                          Postino Arcadia</td>\n",
        "      <td> [Wine Bars, Bars, Restaurants, Nightlife, Ital...</td>\n",
        "      <td> 575</td>\n",
        "      <td> 4.5</td>\n",
        "    </tr>\n",
        "    <tr>\n",
        "      <th>107 </th>\n",
        "      <td> -sC66z4SO3tR7nFCjfQwuQ</td>\n",
        "      <td>                        Gallo Blanco Cafe</td>\n",
        "      <td>                            [Mexican, Restaurants]</td>\n",
        "      <td> 549</td>\n",
        "      <td> 4.0</td>\n",
        "    </tr>\n",
        "    <tr>\n",
        "      <th>8904</th>\n",
        "      <td> QnAzW6KMSciUcuJ20oI3Bw</td>\n",
        "      <td>                         Joe's Farm Grill</td>\n",
        "      <td>             [American (Traditional), Restaurants]</td>\n",
        "      <td> 525</td>\n",
        "      <td> 4.0</td>\n",
        "    </tr>\n",
        "  </tbody>\n",
        "</table>\n",
        "</div>"
       ],
       "metadata": {},
       "output_type": "pyout",
       "prompt_number": 67,
       "text": [
        "                 business_id                                      name  \\\n",
        "9533  hW0Ne_HTHEAgGF1rAdmR-g  Phoenix Sky Harbor International Airport   \n",
        "5498  VVeogjZya58oiTxK7qUjAQ                           Pizzeria Bianco   \n",
        "3428  JokKtdXU7zXHcr20Lrk29A                     Four Peaks Brewing Co   \n",
        "6422  ntN85eu27C04nwyPa8IHtw                      Matt's Big Breakfast   \n",
        "8283  EWMwV5V9BxNs_U6nNVMeqw                                       FEZ   \n",
        "7053  V1nEpIRmEa1768oj_tuxeQ                                      Cibo   \n",
        "62    WNy1uzcmm_UHmTyR--o5IA                     Cornish Pasty Company   \n",
        "3265  SDwYQ6eSu1htn8vHWv128g                           Postino Arcadia   \n",
        "107   -sC66z4SO3tR7nFCjfQwuQ                         Gallo Blanco Cafe   \n",
        "8904  QnAzW6KMSciUcuJ20oI3Bw                          Joe's Farm Grill   \n",
        "\n",
        "                                             categories  review_count  stars  \n",
        "9533                        [Hotels & Travel, Airports]           862    3.0  \n",
        "5498                               [Pizza, Restaurants]           803    4.0  \n",
        "3428  [Bars, Food, Breweries, Pubs, Nightlife, Ameri...           735    4.5  \n",
        "6422                  [Breakfast & Brunch, Restaurants]           689    4.0  \n",
        "8283  [Bars, Mediterranean, Nightlife, Lounges, Amer...           652    4.0  \n",
        "7053          [Italian, Pizza, Sandwiches, Restaurants]           594    4.5  \n",
        "62        [Pubs, Bars, Nightlife, British, Restaurants]           580    4.5  \n",
        "3265  [Wine Bars, Bars, Restaurants, Nightlife, Ital...           575    4.5  \n",
        "107                              [Mexican, Restaurants]           549    4.0  \n",
        "8904              [American (Traditional), Restaurants]           525    4.0  "
       ]
      }
     ],
     "prompt_number": 67
    },
    {
     "cell_type": "code",
     "collapsed": false,
     "input": [
      "bizframe_sub.corr()"
     ],
     "language": "python",
     "metadata": {},
     "outputs": [
      {
       "html": [
        "<div style=\"max-height:1000px;max-width:1500px;overflow:auto;\">\n",
        "<table border=\"1\" class=\"dataframe\">\n",
        "  <thead>\n",
        "    <tr style=\"text-align: right;\">\n",
        "      <th></th>\n",
        "      <th>review_count</th>\n",
        "      <th>stars</th>\n",
        "    </tr>\n",
        "  </thead>\n",
        "  <tbody>\n",
        "    <tr>\n",
        "      <th>review_count</th>\n",
        "      <td> 1.000000</td>\n",
        "      <td> 0.055202</td>\n",
        "    </tr>\n",
        "    <tr>\n",
        "      <th>stars</th>\n",
        "      <td> 0.055202</td>\n",
        "      <td> 1.000000</td>\n",
        "    </tr>\n",
        "  </tbody>\n",
        "</table>\n",
        "</div>"
       ],
       "metadata": {},
       "output_type": "pyout",
       "prompt_number": 68,
       "text": [
        "              review_count     stars\n",
        "review_count      1.000000  0.055202\n",
        "stars             0.055202  1.000000"
       ]
      }
     ],
     "prompt_number": 68
    },
    {
     "cell_type": "code",
     "collapsed": false,
     "input": [
      "top_biz = bizframe_sub.ix[bizframe_sub.stars == 5.0]"
     ],
     "language": "python",
     "metadata": {},
     "outputs": [],
     "prompt_number": 73
    },
    {
     "cell_type": "code",
     "collapsed": false,
     "input": [
      "tb = top_biz.sort_index(by='review_count', ascending=False)"
     ],
     "language": "python",
     "metadata": {},
     "outputs": [],
     "prompt_number": 76
    },
    {
     "cell_type": "code",
     "collapsed": false,
     "input": [
      "tb[:10]"
     ],
     "language": "python",
     "metadata": {},
     "outputs": [
      {
       "html": [
        "<div style=\"max-height:1000px;max-width:1500px;overflow:auto;\">\n",
        "<table border=\"1\" class=\"dataframe\">\n",
        "  <thead>\n",
        "    <tr style=\"text-align: right;\">\n",
        "      <th></th>\n",
        "      <th>business_id</th>\n",
        "      <th>name</th>\n",
        "      <th>categories</th>\n",
        "      <th>review_count</th>\n",
        "      <th>stars</th>\n",
        "    </tr>\n",
        "  </thead>\n",
        "  <tbody>\n",
        "    <tr>\n",
        "      <th>6836 </th>\n",
        "      <td> 97Z7j4vH0kfzL10AONi4uA</td>\n",
        "      <td>        HTC Body Piercing</td>\n",
        "      <td>                         [Piercing, Beauty &amp; Spas]</td>\n",
        "      <td> 78</td>\n",
        "      <td> 5</td>\n",
        "    </tr>\n",
        "    <tr>\n",
        "      <th>3427 </th>\n",
        "      <td> 8HQ8clouLGgee99KkR4vXA</td>\n",
        "      <td>    FROST A Gelato Shoppe</td>\n",
        "      <td>       [Food, Ice Cream &amp; Frozen Yogurt, Desserts]</td>\n",
        "      <td> 65</td>\n",
        "      <td> 5</td>\n",
        "    </tr>\n",
        "    <tr>\n",
        "      <th>2011 </th>\n",
        "      <td> CKjcewWeWvdJ7TzOQbZOIw</td>\n",
        "      <td>      That's Amore Gelato</td>\n",
        "      <td>   [Food, Ice Cream &amp; Frozen Yogurt, Coffee &amp; Tea]</td>\n",
        "      <td> 53</td>\n",
        "      <td> 5</td>\n",
        "    </tr>\n",
        "    <tr>\n",
        "      <th>10778</th>\n",
        "      <td> VSPuvNSDUvlTl670lVAkkw</td>\n",
        "      <td>           Il Bosco Pizza</td>\n",
        "      <td>                              [Pizza, Restaurants]</td>\n",
        "      <td> 49</td>\n",
        "      <td> 5</td>\n",
        "    </tr>\n",
        "    <tr>\n",
        "      <th>6112 </th>\n",
        "      <td> bS2iENq-r03NA7HcON3ujg</td>\n",
        "      <td>         Torched Goodness</td>\n",
        "      <td>                  [Food, Desserts, Street Vendors]</td>\n",
        "      <td> 47</td>\n",
        "      <td> 5</td>\n",
        "    </tr>\n",
        "    <tr>\n",
        "      <th>6513 </th>\n",
        "      <td> 7p0OI2Ld46-EzJkRHGQEJQ</td>\n",
        "      <td>            Baker Nursery</td>\n",
        "      <td>  [Shopping, Nurseries &amp; Gardening, Home &amp; Garden]</td>\n",
        "      <td> 46</td>\n",
        "      <td> 5</td>\n",
        "    </tr>\n",
        "    <tr>\n",
        "      <th>8179 </th>\n",
        "      <td> Q6exnM7RmHdNMZqegdrmoA</td>\n",
        "      <td>         Simply Dentistry</td>\n",
        "      <td>   [Health &amp; Medical, Dentists, General Dentistry]</td>\n",
        "      <td> 38</td>\n",
        "      <td> 5</td>\n",
        "    </tr>\n",
        "    <tr>\n",
        "      <th>6093 </th>\n",
        "      <td> ShUSw5yD7EFWBOiq_CuHMQ</td>\n",
        "      <td> RedSeven Computer Repair</td>\n",
        "      <td> [Local Services, Computers, Shopping, IT Servi...</td>\n",
        "      <td> 36</td>\n",
        "      <td> 5</td>\n",
        "    </tr>\n",
        "    <tr>\n",
        "      <th>3150 </th>\n",
        "      <td> _bsTEMjThKNd8CfiHBX6wg</td>\n",
        "      <td>                Gangplank</td>\n",
        "      <td>                                  [Local Services]</td>\n",
        "      <td> 35</td>\n",
        "      <td> 5</td>\n",
        "    </tr>\n",
        "    <tr>\n",
        "      <th>5191 </th>\n",
        "      <td> 8HheTzFpxkOlfFxJy-sIMw</td>\n",
        "      <td>                  ShinBay</td>\n",
        "      <td>                  [Seafood, Japanese, Restaurants]</td>\n",
        "      <td> 34</td>\n",
        "      <td> 5</td>\n",
        "    </tr>\n",
        "  </tbody>\n",
        "</table>\n",
        "</div>"
       ],
       "metadata": {},
       "output_type": "pyout",
       "prompt_number": 77,
       "text": [
        "                  business_id                      name  \\\n",
        "6836   97Z7j4vH0kfzL10AONi4uA         HTC Body Piercing   \n",
        "3427   8HQ8clouLGgee99KkR4vXA     FROST A Gelato Shoppe   \n",
        "2011   CKjcewWeWvdJ7TzOQbZOIw       That's Amore Gelato   \n",
        "10778  VSPuvNSDUvlTl670lVAkkw            Il Bosco Pizza   \n",
        "6112   bS2iENq-r03NA7HcON3ujg          Torched Goodness   \n",
        "6513   7p0OI2Ld46-EzJkRHGQEJQ             Baker Nursery   \n",
        "8179   Q6exnM7RmHdNMZqegdrmoA          Simply Dentistry   \n",
        "6093   ShUSw5yD7EFWBOiq_CuHMQ  RedSeven Computer Repair   \n",
        "3150   _bsTEMjThKNd8CfiHBX6wg                 Gangplank   \n",
        "5191   8HheTzFpxkOlfFxJy-sIMw                   ShinBay   \n",
        "\n",
        "                                              categories  review_count  stars  \n",
        "6836                           [Piercing, Beauty & Spas]            78      5  \n",
        "3427         [Food, Ice Cream & Frozen Yogurt, Desserts]            65      5  \n",
        "2011     [Food, Ice Cream & Frozen Yogurt, Coffee & Tea]            53      5  \n",
        "10778                               [Pizza, Restaurants]            49      5  \n",
        "6112                    [Food, Desserts, Street Vendors]            47      5  \n",
        "6513    [Shopping, Nurseries & Gardening, Home & Garden]            46      5  \n",
        "8179     [Health & Medical, Dentists, General Dentistry]            38      5  \n",
        "6093   [Local Services, Computers, Shopping, IT Servi...            36      5  \n",
        "3150                                    [Local Services]            35      5  \n",
        "5191                    [Seafood, Japanese, Restaurants]            34      5  "
       ]
      }
     ],
     "prompt_number": 77
    },
    {
     "cell_type": "code",
     "collapsed": false,
     "input": [
      "revframe"
     ],
     "language": "python",
     "metadata": {},
     "outputs": [
      {
       "html": [
        "<pre>\n",
        "&lt;class 'pandas.core.frame.DataFrame'&gt;\n",
        "Int64Index: 229907 entries, 0 to 229906\n",
        "Data columns (total 8 columns):\n",
        "business_id    229907  non-null values\n",
        "date           229907  non-null values\n",
        "review_id      229907  non-null values\n",
        "stars          229907  non-null values\n",
        "text           229907  non-null values\n",
        "type           229907  non-null values\n",
        "user_id        229907  non-null values\n",
        "votes          229907  non-null values\n",
        "dtypes: int64(1), object(7)\n",
        "</pre>"
       ],
       "metadata": {},
       "output_type": "pyout",
       "prompt_number": 12,
       "text": [
        "<class 'pandas.core.frame.DataFrame'>\n",
        "Int64Index: 229907 entries, 0 to 229906\n",
        "Data columns (total 8 columns):\n",
        "business_id    229907  non-null values\n",
        "date           229907  non-null values\n",
        "review_id      229907  non-null values\n",
        "stars          229907  non-null values\n",
        "text           229907  non-null values\n",
        "type           229907  non-null values\n",
        "user_id        229907  non-null values\n",
        "votes          229907  non-null values\n",
        "dtypes: int64(1), object(7)"
       ]
      }
     ],
     "prompt_number": 12
    },
    {
     "cell_type": "code",
     "collapsed": false,
     "input": [
      "rev_star_counts = revframe['stars'].value_counts()"
     ],
     "language": "python",
     "metadata": {},
     "outputs": [],
     "prompt_number": 13
    },
    {
     "cell_type": "code",
     "collapsed": false,
     "input": [
      "rev_star_counts[:10]"
     ],
     "language": "python",
     "metadata": {},
     "outputs": [
      {
       "metadata": {},
       "output_type": "pyout",
       "prompt_number": 14,
       "text": [
        "4    79878\n",
        "5    76193\n",
        "3    35363\n",
        "2    20957\n",
        "1    17516\n",
        "dtype: int64"
       ]
      }
     ],
     "prompt_number": 14
    },
    {
     "cell_type": "code",
     "collapsed": false,
     "input": [
      "user_avg_star_counts = userframe['average_stars'].value_counts()"
     ],
     "language": "python",
     "metadata": {},
     "outputs": [],
     "prompt_number": 15
    },
    {
     "cell_type": "code",
     "collapsed": false,
     "input": [
      "user_avg_star_counts[:10]"
     ],
     "language": "python",
     "metadata": {},
     "outputs": [
      {
       "metadata": {},
       "output_type": "pyout",
       "prompt_number": 16,
       "text": [
        "5.00    6499\n",
        "4.00    3624\n",
        "3.00    2235\n",
        "1.00    2008\n",
        "4.50    1312\n",
        "3.50    1081\n",
        "3.67    1000\n",
        "2.00     961\n",
        "4.33     673\n",
        "3.75     587\n",
        "dtype: int64"
       ]
      }
     ],
     "prompt_number": 16
    },
    {
     "cell_type": "code",
     "collapsed": false,
     "input": [
      "biz_star_counts = bizframe['stars'].value_counts()"
     ],
     "language": "python",
     "metadata": {},
     "outputs": [],
     "prompt_number": 17
    },
    {
     "cell_type": "code",
     "collapsed": false,
     "input": [
      "biz_star_counts"
     ],
     "language": "python",
     "metadata": {},
     "outputs": [
      {
       "metadata": {},
       "output_type": "pyout",
       "prompt_number": 18,
       "text": [
        "4.0    2674\n",
        "3.5    2639\n",
        "4.5    1748\n",
        "3.0    1511\n",
        "5.0    1273\n",
        "2.5    1011\n",
        "2.0     403\n",
        "1.5     170\n",
        "1.0     108\n",
        "dtype: int64"
       ]
      }
     ],
     "prompt_number": 18
    },
    {
     "cell_type": "code",
     "collapsed": false,
     "input": [
      "bizframe['stars'].describe()"
     ],
     "language": "python",
     "metadata": {},
     "outputs": [
      {
       "metadata": {},
       "output_type": "pyout",
       "prompt_number": 21,
       "text": [
        "count    11537.000000\n",
        "mean         3.674525\n",
        "std          0.862407\n",
        "min          1.000000\n",
        "25%          3.000000\n",
        "50%          3.500000\n",
        "75%          4.500000\n",
        "max          5.000000\n",
        "dtype: float64"
       ]
      }
     ],
     "prompt_number": 21
    },
    {
     "cell_type": "code",
     "collapsed": false,
     "input": [
      "userframe['review_count'].describe()"
     ],
     "language": "python",
     "metadata": {},
     "outputs": [
      {
       "metadata": {},
       "output_type": "pyout",
       "prompt_number": 22,
       "text": [
        "count    43873.000000\n",
        "mean        38.858729\n",
        "std        117.907082\n",
        "min          1.000000\n",
        "25%          2.000000\n",
        "50%          7.000000\n",
        "75%         23.000000\n",
        "max       5807.000000\n",
        "dtype: float64"
       ]
      }
     ],
     "prompt_number": 22
    },
    {
     "cell_type": "code",
     "collapsed": false,
     "input": [
      "userframe['review_count'].skew()"
     ],
     "language": "python",
     "metadata": {},
     "outputs": [
      {
       "metadata": {},
       "output_type": "pyout",
       "prompt_number": 23,
       "text": [
        "10.165294310087017"
       ]
      }
     ],
     "prompt_number": 23
    },
    {
     "cell_type": "code",
     "collapsed": false,
     "input": [
      "revframe['stars'].describe()"
     ],
     "language": "python",
     "metadata": {},
     "outputs": [
      {
       "metadata": {},
       "output_type": "pyout",
       "prompt_number": 24,
       "text": [
        "count    229907.000000\n",
        "mean          3.766723\n",
        "std           1.217010\n",
        "min           1.000000\n",
        "25%           3.000000\n",
        "50%           4.000000\n",
        "75%           5.000000\n",
        "max           5.000000\n",
        "dtype: float64"
       ]
      }
     ],
     "prompt_number": 24
    },
    {
     "cell_type": "code",
     "collapsed": false,
     "input": [
      "revframe['stars'].median()"
     ],
     "language": "python",
     "metadata": {},
     "outputs": [
      {
       "metadata": {},
       "output_type": "pyout",
       "prompt_number": 25,
       "text": [
        "4.0"
       ]
      }
     ],
     "prompt_number": 25
    },
    {
     "cell_type": "code",
     "collapsed": false,
     "input": [
      "rev_user_frame = pd.merge(revframe, userframe, on='user_id')"
     ],
     "language": "python",
     "metadata": {},
     "outputs": [],
     "prompt_number": 26
    },
    {
     "cell_type": "code",
     "collapsed": false,
     "input": [
      "rev_user_frame"
     ],
     "language": "python",
     "metadata": {},
     "outputs": [
      {
       "html": [
        "<pre>\n",
        "&lt;class 'pandas.core.frame.DataFrame'&gt;\n",
        "Int64Index: 215879 entries, 0 to 215878\n",
        "Data columns (total 13 columns):\n",
        "business_id      215879  non-null values\n",
        "date             215879  non-null values\n",
        "review_id        215879  non-null values\n",
        "stars            215879  non-null values\n",
        "text             215879  non-null values\n",
        "type_x           215879  non-null values\n",
        "user_id          215879  non-null values\n",
        "votes_x          215879  non-null values\n",
        "average_stars    215879  non-null values\n",
        "name             215879  non-null values\n",
        "review_count     215879  non-null values\n",
        "type_y           215879  non-null values\n",
        "votes_y          215879  non-null values\n",
        "dtypes: float64(1), int64(2), object(10)\n",
        "</pre>"
       ],
       "metadata": {},
       "output_type": "pyout",
       "prompt_number": 27,
       "text": [
        "<class 'pandas.core.frame.DataFrame'>\n",
        "Int64Index: 215879 entries, 0 to 215878\n",
        "Data columns (total 13 columns):\n",
        "business_id      215879  non-null values\n",
        "date             215879  non-null values\n",
        "review_id        215879  non-null values\n",
        "stars            215879  non-null values\n",
        "text             215879  non-null values\n",
        "type_x           215879  non-null values\n",
        "user_id          215879  non-null values\n",
        "votes_x          215879  non-null values\n",
        "average_stars    215879  non-null values\n",
        "name             215879  non-null values\n",
        "review_count     215879  non-null values\n",
        "type_y           215879  non-null values\n",
        "votes_y          215879  non-null values\n",
        "dtypes: float64(1), int64(2), object(10)"
       ]
      }
     ],
     "prompt_number": 27
    },
    {
     "cell_type": "code",
     "collapsed": false,
     "input": [
      "rev_user_sample = rev_user_frame.take(np.random.permutation(len(rev_user_frame))[:50])"
     ],
     "language": "python",
     "metadata": {},
     "outputs": [],
     "prompt_number": 29
    },
    {
     "cell_type": "code",
     "collapsed": false,
     "input": [
      "rev_user_sample.describe()"
     ],
     "language": "python",
     "metadata": {},
     "outputs": [
      {
       "html": [
        "<div style=\"max-height:1000px;max-width:1500px;overflow:auto;\">\n",
        "<table border=\"1\" class=\"dataframe\">\n",
        "  <thead>\n",
        "    <tr style=\"text-align: right;\">\n",
        "      <th></th>\n",
        "      <th>stars</th>\n",
        "      <th>average_stars</th>\n",
        "      <th>review_count</th>\n",
        "    </tr>\n",
        "  </thead>\n",
        "  <tbody>\n",
        "    <tr>\n",
        "      <th>count</th>\n",
        "      <td> 50.000000</td>\n",
        "      <td> 50.000000</td>\n",
        "      <td>   50.000000</td>\n",
        "    </tr>\n",
        "    <tr>\n",
        "      <th>mean</th>\n",
        "      <td>  3.680000</td>\n",
        "      <td>  3.723200</td>\n",
        "      <td>  175.420000</td>\n",
        "    </tr>\n",
        "    <tr>\n",
        "      <th>std</th>\n",
        "      <td>  1.202718</td>\n",
        "      <td>  0.447808</td>\n",
        "      <td>  339.998925</td>\n",
        "    </tr>\n",
        "    <tr>\n",
        "      <th>min</th>\n",
        "      <td>  1.000000</td>\n",
        "      <td>  2.500000</td>\n",
        "      <td>    1.000000</td>\n",
        "    </tr>\n",
        "    <tr>\n",
        "      <th>25%</th>\n",
        "      <td>  3.000000</td>\n",
        "      <td>  3.475000</td>\n",
        "      <td>   11.000000</td>\n",
        "    </tr>\n",
        "    <tr>\n",
        "      <th>50%</th>\n",
        "      <td>  4.000000</td>\n",
        "      <td>  3.725000</td>\n",
        "      <td>   57.500000</td>\n",
        "    </tr>\n",
        "    <tr>\n",
        "      <th>75%</th>\n",
        "      <td>  4.000000</td>\n",
        "      <td>  3.947500</td>\n",
        "      <td>  219.500000</td>\n",
        "    </tr>\n",
        "    <tr>\n",
        "      <th>max</th>\n",
        "      <td>  5.000000</td>\n",
        "      <td>  4.750000</td>\n",
        "      <td> 2100.000000</td>\n",
        "    </tr>\n",
        "  </tbody>\n",
        "</table>\n",
        "</div>"
       ],
       "metadata": {},
       "output_type": "pyout",
       "prompt_number": 30,
       "text": [
        "           stars  average_stars  review_count\n",
        "count  50.000000      50.000000     50.000000\n",
        "mean    3.680000       3.723200    175.420000\n",
        "std     1.202718       0.447808    339.998925\n",
        "min     1.000000       2.500000      1.000000\n",
        "25%     3.000000       3.475000     11.000000\n",
        "50%     4.000000       3.725000     57.500000\n",
        "75%     4.000000       3.947500    219.500000\n",
        "max     5.000000       4.750000   2100.000000"
       ]
      }
     ],
     "prompt_number": 30
    },
    {
     "cell_type": "code",
     "collapsed": false,
     "input": [
      "rev_user_sample.stack()"
     ],
     "language": "python",
     "metadata": {},
     "outputs": [
      {
       "metadata": {},
       "output_type": "pyout",
       "prompt_number": 31,
       "text": [
        "210423  business_id                                 Iuml1UUgrAX1HyU50IWBEw\n",
        "        date                                                    2012-01-24\n",
        "        review_id                                   yh9ggPLo6XJUKH6_Me34PA\n",
        "        stars                                                            4\n",
        "        text             The location was perfect for our recent family...\n",
        "        type_x                                                      review\n",
        "        user_id                                     CcftYThdgVPNoV0W-W-AHQ\n",
        "        votes_x                    {u'funny': 0, u'useful': 0, u'cool': 0}\n",
        "        average_stars                                                 4.69\n",
        "        name                                                         karla\n",
        "        review_count                                                    19\n",
        "        type_y                                                        user\n",
        "        votes_y                    {u'funny': 2, u'useful': 4, u'cool': 2}\n",
        "134245  business_id                                 R3sbDS0YcJDedSmUjwE48Q\n",
        "        date                                                    2011-12-16\n",
        "...\n",
        "2250   type_y                                                        user\n",
        "       votes_y            {u'funny': 849, u'useful': 1495, u'cool': 1005}\n",
        "52378  business_id                                 rLHVgSA8foTgapmzzUyamw\n",
        "       date                                                    2012-08-26\n",
        "       review_id                                   8oh0u-rFeKWFHAub8tiy-Q\n",
        "       stars                                                            1\n",
        "       text             POOR SERVICE , BAD DRINKS , and SPOILED FOOD.\\...\n",
        "       type_x                                                      review\n",
        "       user_id                                     p7dvahRPZIWL7T6pFA_0dg\n",
        "       votes_x                    {u'funny': 2, u'useful': 3, u'cool': 0}\n",
        "       average_stars                                                 3.06\n",
        "       name                                                        Pepper\n",
        "       review_count                                                   232\n",
        "       type_y                                                        user\n",
        "       votes_y              {u'funny': 183, u'useful': 551, u'cool': 218}\n",
        "Length: 650, dtype: object"
       ]
      }
     ],
     "prompt_number": 31
    },
    {
     "cell_type": "code",
     "collapsed": false,
     "input": [
      "rev_user_sample.unstack()"
     ],
     "language": "python",
     "metadata": {},
     "outputs": [
      {
       "metadata": {},
       "output_type": "pyout",
       "prompt_number": 32,
       "text": [
        "business_id  210423    Iuml1UUgrAX1HyU50IWBEw\n",
        "             134245    R3sbDS0YcJDedSmUjwE48Q\n",
        "             76060     HTpBzBg3OLU-lQUqRIqoiw\n",
        "             136991    -H0JvSyF8r8vGDEBjRNArg\n",
        "             21277     TuCAYZ89lP_s6D7Y78xNhQ\n",
        "             70128     wy_R4crNr1BH0CP87y9UHQ\n",
        "             135769    waOHPeROjKPz-KXqlSsoWA\n",
        "             93434     ZVu400Wt7VKU5SdKwUR9lA\n",
        "             182911    2nzUx_M8Szyzsf4CszHasw\n",
        "             42412     8Hn5X1AqgmSLHRG2KgBJBg\n",
        "             152211    shlAd7PLzWlQrkQ0uYcBBg\n",
        "             140763    TMdHhDI7jYQ9206dtvrBgA\n",
        "             79858     JhupPnWfNlMJivnWB5druA\n",
        "             199881    vz2zQQSjy-NnnKLZzjjoxA\n",
        "             25232     LYLGCIqNQQrpMwOxJ1hlrg\n",
        "...\n",
        "votes_y  155667             {u'funny': 3, u'useful': 6, u'cool': 0}\n",
        "         164918        {u'funny': 54, u'useful': 189, u'cool': 118}\n",
        "         16887        {u'funny': 135, u'useful': 416, u'cool': 245}\n",
        "         107332             {u'funny': 1, u'useful': 2, u'cool': 0}\n",
        "         178567      {u'funny': 703, u'useful': 1176, u'cool': 912}\n",
        "         5629         {u'funny': 344, u'useful': 352, u'cool': 135}\n",
        "         95083          {u'funny': 53, u'useful': 224, u'cool': 89}\n",
        "         325       {u'funny': 1187, u'useful': 1376, u'cool': 1200}\n",
        "         112031             {u'funny': 1, u'useful': 5, u'cool': 0}\n",
        "         40467        {u'funny': 140, u'useful': 175, u'cool': 143}\n",
        "         92149           {u'funny': 53, u'useful': 98, u'cool': 50}\n",
        "         88109              {u'funny': 4, u'useful': 8, u'cool': 4}\n",
        "         148984            {u'funny': 3, u'useful': 13, u'cool': 2}\n",
        "         2250       {u'funny': 849, u'useful': 1495, u'cool': 1005}\n",
        "         52378        {u'funny': 183, u'useful': 551, u'cool': 218}\n",
        "Length: 650, dtype: object"
       ]
      }
     ],
     "prompt_number": 32
    },
    {
     "cell_type": "code",
     "collapsed": false,
     "input": [
      "rev_user_sample.corr()"
     ],
     "language": "python",
     "metadata": {},
     "outputs": [
      {
       "html": [
        "<div style=\"max-height:1000px;max-width:1500px;overflow:auto;\">\n",
        "<table border=\"1\" class=\"dataframe\">\n",
        "  <thead>\n",
        "    <tr style=\"text-align: right;\">\n",
        "      <th></th>\n",
        "      <th>stars</th>\n",
        "      <th>average_stars</th>\n",
        "      <th>review_count</th>\n",
        "    </tr>\n",
        "  </thead>\n",
        "  <tbody>\n",
        "    <tr>\n",
        "      <th>stars</th>\n",
        "      <td> 1.000000</td>\n",
        "      <td> 0.132668</td>\n",
        "      <td>-0.125780</td>\n",
        "    </tr>\n",
        "    <tr>\n",
        "      <th>average_stars</th>\n",
        "      <td> 0.132668</td>\n",
        "      <td> 1.000000</td>\n",
        "      <td>-0.107347</td>\n",
        "    </tr>\n",
        "    <tr>\n",
        "      <th>review_count</th>\n",
        "      <td>-0.125780</td>\n",
        "      <td>-0.107347</td>\n",
        "      <td> 1.000000</td>\n",
        "    </tr>\n",
        "  </tbody>\n",
        "</table>\n",
        "</div>"
       ],
       "metadata": {},
       "output_type": "pyout",
       "prompt_number": 33,
       "text": [
        "                  stars  average_stars  review_count\n",
        "stars          1.000000       0.132668     -0.125780\n",
        "average_stars  0.132668       1.000000     -0.107347\n",
        "review_count  -0.125780      -0.107347      1.000000"
       ]
      }
     ],
     "prompt_number": 33
    },
    {
     "cell_type": "code",
     "collapsed": false,
     "input": [
      "group = revframe.groupby('user_id').size()"
     ],
     "language": "python",
     "metadata": {},
     "outputs": [],
     "prompt_number": 47
    },
    {
     "cell_type": "code",
     "collapsed": false,
     "input": [
      "group.order(ascending=False)"
     ],
     "language": "python",
     "metadata": {},
     "outputs": [
      {
       "metadata": {},
       "output_type": "pyout",
       "prompt_number": 49,
       "text": [
        "user_id\n",
        "fczQCSmaWF78toLEmb0Zsw    588\n",
        "90a6z--_CUrl84aCzZyPsg    506\n",
        "0CMz8YaO3f8xu4KqQgKb9Q    473\n",
        "4ozupHULqGyO42s3zNUzOQ    442\n",
        "joIzw_aUiNvBTuGoytrH7g    392\n",
        "0bNXP9quoJEgyVZu9ipGgQ    376\n",
        "JffajLV-Dnn-eGYgdXDxFg    371\n",
        "3gIfcQq5KxAegwCPXc83cQ    340\n",
        "_PzSNcfrCjeBxSLXRoMmgQ    333\n",
        "ikm0UCahtK34LbLCEw4YTw    328\n",
        "lPaYMDmJbAnv_3pmZH_inw    320\n",
        "0mqHhdKEdak_A1FBhFNXqA    315\n",
        "uZbTb-u-GVjTa2gtQfry5g    300\n",
        "C8ZTiwa7qWoPSMIivTeSfw    297\n",
        "JgDkCER12uiv4lbpmkZ9VA    294\n",
        "...\n",
        "-1wHRzKcr6c4t1Ani1Qt9g    1\n",
        "-1Emre88jszSsXXvEljVLA    1\n",
        "-13pXxRgRAvi3j5U2JYduQ    1\n",
        "-0t6A5EL5CCX1EFu5VxPTg    1\n",
        "-0stzn_U5HE0pkIaU1YKPA    1\n",
        "-0heMfd5ngN1qm3vrVL83g    1\n",
        "-0b8gEy62r6bHDaaCHWyVA    1\n",
        "-0Js-tuVNbipC-AG_1lfbw    1\n",
        "-0D3oSKIIWCTtii9ggLpcw    1\n",
        "--xayi5_x00uSNZZGQgY6A    1\n",
        "--dofeOsROFpm0q_dmqTTA    1\n",
        "--RD0Z_F0tV4L-AzhOzXYA    1\n",
        "--M-cIkGnH1KhnLaCOmoPQ    1\n",
        "--AqBuo717RyacADExYbSA    1\n",
        "--5hzxWLz5ozIg6OMo6tpQ    1\n",
        "Length: 45981, dtype: int64"
       ]
      }
     ],
     "prompt_number": 49
    },
    {
     "cell_type": "code",
     "collapsed": false,
     "input": [],
     "language": "python",
     "metadata": {},
     "outputs": []
    }
   ],
   "metadata": {}
  }
 ]
}